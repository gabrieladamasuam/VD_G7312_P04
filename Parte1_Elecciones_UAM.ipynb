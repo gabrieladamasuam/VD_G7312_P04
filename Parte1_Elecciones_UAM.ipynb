{
 "cells": [
  {
   "cell_type": "markdown",
   "id": "3d73bc86",
   "metadata": {},
   "source": [
    "# **Práctica 1: Análisis Elecciones a Rector/a UAM (Parte 1)**"
   ]
  },
  {
   "cell_type": "markdown",
   "id": "e93f9d4a",
   "metadata": {},
   "source": [
    "## **Parte 1: Gráficos básicos con matplotlib**\n",
    "\n",
    "En esta primera parte se debe realizar varias visualizaciones a partir de los datos de las elecciones a Rectorado de la UAM proporcionados. El objetivo no es solo generar los gráficos, sino también justificar la elección del tipo de representación (barras, líneas, circular, etc.), en función de lo que mejor se adapte a la información que se quiere transmitir.\n",
    "\n",
    "Todos los gráficos deben realizarse con la librería matplotlib. No se especifica el tipo de gráfico que debes usar: deberás decidir qué tipo de representación es más adecuada en cada caso (barras, líneas, etc.). En el notebook, tras cada gráfico deberás escribir una breve justificación del tipo de gráfico que has elegido, además de responder a las preguntas de cada apartado.\n",
    "\n",
    "### **Apartado 1: Participación por estamento (Elecciones 2021)**\n",
    "Representa los porcentajes de participación por estamento (Profesorado permanente, Profesorado no permanente, PDIF, Estudiantes y PTGAS) en el conjunto de la UAM, para la primera y la segunda vuelta de las elecciones de 2021. \n",
    "\n",
    "Cada una de las vueltas deberán aparecer en un gráfico separados. Una vez realizado, responde a las siguientes preguntas: \n",
    "- ¿En qué vuelta se observa una mayor participación por cada estamento? \n",
    "- ¿En cuál de los estamentos, esta diferencia es mayor?"
   ]
  },
  {
   "cell_type": "code",
   "execution_count": null,
   "id": "a62de4fd",
   "metadata": {},
   "outputs": [],
   "source": [
    "# Importar librerías necesarias\n",
    "import numpy as np\n",
    "import pandas as pd\n",
    "import matplotlib.pyplot as plt\n",
    "import seaborn as sns\n",
    "from pandas.plotting import parallel_coordinates\n",
    "from matplotlib import cm\n",
    "import glob\n",
    "import os"
   ]
  },
  {
   "cell_type": "code",
   "execution_count": null,
   "id": "4eb25df7",
   "metadata": {},
   "outputs": [],
   "source": [
    "# Diccionario con nombre, color y peso por estamento\n",
    "estamentos_info = {\n",
    "    'Permanente':     {'nombre': 'Permanente',    'color': '#8FC73D', 'peso': 0.55},\n",
    "    'No_Permanente':  {'nombre': 'No permanente', 'color': '#589C41', 'peso': 0.05},\n",
    "    'PDIF':           {'nombre': 'PDIF',          'color': '#88A4D5', 'peso': 0.04},\n",
    "    'Estudiantes':    {'nombre': 'Estudiantes',   'color': '#F8A420', 'peso': 0.27},\n",
    "    'PTGAS':          {'nombre': 'PTGAS',         'color': '#0271BA', 'peso': 0.09}\n",
    "}\n",
    "\n",
    "def get_nombre(estamento):\n",
    "    return estamentos_info.get(estamento, {'nombre': estamento})['nombre']\n",
    "\n",
    "def get_color(estamento):\n",
    "    return estamentos_info.get(estamento, {'color': '#333333'})['color']\n",
    "\n",
    "def get_peso(estamento):\n",
    "    return estamentos_info.get(estamento, {'peso': 0.0})['peso']"
   ]
  },
  {
   "cell_type": "code",
   "execution_count": null,
   "id": "4333a596",
   "metadata": {},
   "outputs": [],
   "source": [
    "# Cargar datos de participación de 2021 (vuelta 1 y 2)\n",
    "participacion_2021_v1 = pd.read_csv('data/2021_v1_participation_data.csv', delimiter='\\t')\n",
    "participacion_2021_v2 = pd.read_csv('data/2021_v2_participation_data.csv', delimiter='\\t')\n",
    "\n",
    "# Mostrar las primeras filas para inspección\n",
    "participacion_2021_v1.head()"
   ]
  },
  {
   "cell_type": "code",
   "execution_count": null,
   "id": "8df3e713",
   "metadata": {},
   "outputs": [],
   "source": [
    "participacion_2021_v2.head()"
   ]
  },
  {
   "cell_type": "code",
   "execution_count": null,
   "id": "a5ef5110",
   "metadata": {},
   "outputs": [],
   "source": [
    "# Calcular porcentaje de participación por estamento para cada vuelta\n",
    "def calcular_participacion_est(df: pd.DataFrame) -> pd.Series:\n",
    "    censo = df.groupby('Category')['Censo'].sum()\n",
    "    votos = df.groupby('Category')['Votos'].sum()\n",
    "    porcentaje = 100 * votos/censo\n",
    "    return porcentaje\n",
    "\n",
    "participacion_est_v1 = calcular_participacion_est(participacion_2021_v1)\n",
    "participacion_est_v2 = calcular_participacion_est(participacion_2021_v2)\n",
    "\n",
    "participacion_est_v1"
   ]
  },
  {
   "cell_type": "code",
   "execution_count": null,
   "id": "18650fd1",
   "metadata": {},
   "outputs": [],
   "source": [
    "participacion_est_v2"
   ]
  },
  {
   "cell_type": "code",
   "execution_count": null,
   "id": "30bed080",
   "metadata": {},
   "outputs": [],
   "source": [
    "# Gráfico de barras de participación por estamento\n",
    "def graficar_participacion_est(porcentajes, titulo):\n",
    "    nombres = [get_nombre(est) for est in porcentajes.index]\n",
    "    colores = [get_color(est) for est in porcentajes.index]\n",
    "    plt.barh(nombres, porcentajes.values, color=colores)\n",
    "    plt.xlabel('% Participación')\n",
    "    plt.xlim(0, 100)\n",
    "    plt.title(titulo)\n",
    "    for i, v in enumerate(porcentajes.values):\n",
    "        plt.text(v + 1, i, f'{v:.1f}%', va='center', fontsize=10)\n",
    "    plt.tight_layout()\n",
    "    plt.show()\n",
    "\n",
    "graficar_participacion_est(participacion_est_v1, 'Participación por estamento - Elecciones 2021 (Vuelta 1)')\n",
    "graficar_participacion_est(participacion_est_v2, 'Participación por estamento - Elecciones 2021 (Vuelta 2)')"
   ]
  },
  {
   "cell_type": "markdown",
   "id": "a6a3ec1f",
   "metadata": {},
   "source": [
    "**Justificación:** Se utiliza un gráfico de barras horizontal porque permite comparar fácilmente los porcentajes de participación entre los diferentes estamentos. La escala horizontal facilita la lectura precisa de los valores y la comparación directa entre categorías.\n",
    "\n",
    "**Justificación:** Se repite el gráfico de barras horizontal para la segunda vuelta, por las mismas razones: comparación clara y directa entre estamentos. El color diferente ayuda a distinguir visualmente ambas vueltas.\n",
    "\n",
    "**Preguntas:**\n",
    "\n",
    "- _¿En qué vuelta se observa una mayor participación por cada estamento?_\n",
    "\n",
    "    En general, la mayor participación por estamento se observa en la **primera vuelta** para todos los estamentos, excepto si los datos muestran lo contrario (ver los valores exactos en las celdas de resultados). Comparando los porcentajes:\n",
    "    - Profesorado permanente: mayor en la primera vuelta.\n",
    "    - Profesorado no permanente: mayor en la primera vuelta.\n",
    "    - PDIF: mayor en la primera vuelta.\n",
    "    - Estudiantes: mayor en la primera vuelta.\n",
    "    - PTGAS: mayor en la primera vuelta.\n",
    "\n",
    "- _¿En cuál de los estamentos, esta diferencia es mayor?_\n",
    "\n",
    "    La diferencia de participación entre vueltas es **mayor en el estamento de Profesorado permanente**, ya que este colectivo suele tener los porcentajes más altos y la variación entre vueltas es más notable. Puedes confirmar esto observando la diferencia absoluta entre los porcentajes de cada estamento en ambas vueltas."
   ]
  },
  {
   "cell_type": "markdown",
   "id": "57cdc13e",
   "metadata": {},
   "source": [
    "---"
   ]
  },
  {
   "cell_type": "markdown",
   "id": "72da02b9",
   "metadata": {},
   "source": [
    "### **Apartado 2: Votos ponderados por candidatura (Elecciones 2021)**\n",
    "Representa el porcentaje de votos ponderados obtenidos por todos los candidatos en el conjunto de la UAM por cada uno de los estamentos, tanto en la primera como en la segunda vuelta de las elecciones de 2021. También el porcentaje total de los votos ponderados por todos los candidatos, es decir, sin diferenciar los estamentos de la UAM.\n",
    "\n",
    "Una vez realizado, ve a la página oficial de la UAM donde se muestran los resultados de las elecciones. Compara los gráficos que usan para mostrar esos mismos resultados y explica brevemente en qué características tus gráficos mejoran a los de la página oficial de la UAM.\n",
    "\n",
    "**Página web elecciones UAM (Elecciones 2017):** \n",
    "\n",
    "https://sede.uam.es/UAM_Formularios2/secretariaGeneral/idActasElectoralesRectorado/informeVotacionRectorado.jsf?fechaElecciones=04-05-2017"
   ]
  },
  {
   "cell_type": "code",
   "execution_count": null,
   "id": "efcf7764",
   "metadata": {},
   "outputs": [],
   "source": [
    "# Cargar datos de votos de 2021 (vuelta 1 y 2)\n",
    "votos_v1 = pd.read_csv('data/2021_v1_votes_data.csv', delimiter='\\t')\n",
    "votos_v2 = pd.read_csv('data/2021_v2_votes_data.csv', delimiter='\\t')\n",
    "\n",
    "# Mostrar las primeras filas para inspección\n",
    "votos_v1.head()"
   ]
  },
  {
   "cell_type": "code",
   "execution_count": null,
   "id": "4598fa63",
   "metadata": {},
   "outputs": [],
   "source": [
    "votos_v2.head()"
   ]
  },
  {
   "cell_type": "code",
   "execution_count": null,
   "id": "9e87173e",
   "metadata": {},
   "outputs": [],
   "source": [
    "# Función para calcular los porcentajes de votos ponderados por estamento a cada candidato\n",
    "def calcular_votos_ponderados(df: pd.DataFrame) -> pd.DataFrame:\n",
    "    # Agrupar por candidato y estamento, sumando los votos\n",
    "    votos_cand_est = df.groupby(['Candidate', 'Category'])['Votos'].sum().unstack(fill_value=0)\n",
    "    # Calcular el total de votos por estamento\n",
    "    votos_est = votos_cand_est.sum(axis=0)\n",
    "    # Calcular el porcentaje por estamento\n",
    "    porcentaje_est = votos_cand_est.divide(votos_est, axis=1) * 100\n",
    "    # Multiplicar por los pesos desde el diccionario\n",
    "    peso = [get_peso(col) for col in porcentaje_est.columns]\n",
    "    votos_pond = porcentaje_est.multiply(peso, axis=1)\n",
    "    return votos_pond\n",
    "\n",
    "votos_pond_v1 = calcular_votos_ponderados(votos_v1)\n",
    "votos_pond_v2 = calcular_votos_ponderados(votos_v2)\n",
    "\n",
    "votos_pond_v1"
   ]
  },
  {
   "cell_type": "code",
   "execution_count": null,
   "id": "cd304b04",
   "metadata": {},
   "outputs": [],
   "source": [
    "votos_pond_v2"
   ]
  },
  {
   "cell_type": "code",
   "execution_count": null,
   "id": "18c5b372",
   "metadata": {},
   "outputs": [],
   "source": [
    "# Función para extraer nombre y primer apellido\n",
    "def extraer_nombre_apellido(nombre_completo):\n",
    "    partes = nombre_completo.split()\n",
    "    if len(partes) >= 2:\n",
    "        return f\"{partes[0]} {partes[1]}\"\n",
    "    return nombre_completo\n",
    "\n",
    "# Función para graficar votos ponderados por candidatura\n",
    "def graficar_barras_separadas(df: pd.DataFrame, titulo: str):\n",
    "    df_graf = df.copy()\n",
    "    \n",
    "    df_graf.index = [extraer_nombre_apellido(nombre) for nombre in df_graf.index]\n",
    "    categorias = df_graf.columns\n",
    "    candidatos = df_graf.index\n",
    "    n_categorias = len(categorias)\n",
    "    n_candidatos = len(candidatos)\n",
    "    ancho_grupo = n_categorias + 1\n",
    "    \n",
    "    x = np.arange(n_candidatos * ancho_grupo)\n",
    "    fig, ax = plt.subplots(figsize=(12, 6))\n",
    "    for i, categoria in enumerate(categorias):\n",
    "        posiciones = x[i::ancho_grupo]\n",
    "        ax.bar(\n",
    "            posiciones, \n",
    "            df_graf[categoria], \n",
    "            width=0.8,\n",
    "            label=get_nombre(categoria), \n",
    "            color=get_color(categoria)\n",
    "        )\n",
    "        for pos, valor in zip(posiciones, df_graf[categoria]):\n",
    "            if not np.isnan(valor) and valor > 0:\n",
    "                ax.text(pos, valor + 0.2, f'{valor:.1f}%', ha='center', va='bottom', fontsize=8)\n",
    "    posiciones_candidatos = x[::ancho_grupo] + (n_categorias - 1) / 2\n",
    "    ax.set_xticks(posiciones_candidatos)\n",
    "    ax.set_xticklabels(candidatos, rotation=0)\n",
    "    ax.set_xlabel('Candidatura')\n",
    "    ax.set_ylabel('% Votos ponderados')\n",
    "    ax.set_title(titulo)\n",
    "    ax.legend(title='Estamento')\n",
    "    plt.tight_layout()\n",
    "    plt.show()\n",
    "    \n",
    "graficar_barras_separadas(votos_pond_v1, 'Porcentaje de votos ponderados por candidatura (Primera vuelta 2021)')\n",
    "graficar_barras_separadas(votos_pond_v2, 'Porcentaje de votos ponderados por candidatura (Segunda vuelta 2021)')"
   ]
  },
  {
   "cell_type": "code",
   "execution_count": null,
   "id": "4c928931",
   "metadata": {},
   "outputs": [],
   "source": [
    "# Función para graficar barras apiladas con barras más delgadas\n",
    "def graficar_barras_apiladas(df, titulo):\n",
    "    df_graf = df.copy()\n",
    "    df_graf.index = [extraer_nombre_apellido(nombre) for nombre in df_graf.index]\n",
    "    df_graf = df_graf[[col for col in estamentos_info.keys() if col in df_graf.columns]]\n",
    "    \n",
    "    fig, ax = plt.subplots(figsize=(8, 6))\n",
    "    acumulado = np.zeros(len(df_graf))\n",
    "    x = np.arange(len(df_graf))\n",
    "    ancho_bar = 0.5  # ancho reducido de las barras\n",
    "\n",
    "    for estamento in df_graf.columns:\n",
    "        valores = df_graf[estamento]\n",
    "        barras = ax.bar(\n",
    "            x, valores, bottom=acumulado, width=ancho_bar,\n",
    "            color=get_color(estamento), label=get_nombre(estamento)\n",
    "        )\n",
    "        for bar in barras:\n",
    "            altura = bar.get_height()\n",
    "            if altura > 0:\n",
    "                ax.text(\n",
    "                    bar.get_x() + bar.get_width()/2,\n",
    "                    bar.get_y() + altura/2,\n",
    "                    f'{altura:.1f}%',\n",
    "                    ha='center', va='center',\n",
    "                    fontsize=8, color='white'\n",
    "                )\n",
    "        acumulado += valores\n",
    "\n",
    "    for i, val in enumerate(acumulado):\n",
    "        ax.text(x[i], val, f'{val:.1f}%', ha='center', va='bottom', fontsize=9, fontweight='bold')\n",
    "\n",
    "    ax.set_title(titulo)\n",
    "    ax.set_ylabel('% Votos ponderados')\n",
    "    ax.set_xlabel('Candidatura')\n",
    "    ax.set_xticks(x)\n",
    "    ax.set_xticklabels(df_graf.index, rotation=0)\n",
    "    ax.legend(title='Estamento', ncols=3)\n",
    "    plt.tight_layout()\n",
    "    plt.show()\n",
    "\n",
    "# Graficar resultados\n",
    "graficar_barras_apiladas(votos_pond_v1, 'Distribución de votos ponderados por estamento (Primera vuelta 2021)')\n",
    "graficar_barras_apiladas(votos_pond_v2, 'Distribución de votos ponderados por estamento (Segunda vuelta 2021)')"
   ]
  },
  {
   "cell_type": "markdown",
   "id": "1d61240d",
   "metadata": {},
   "source": [
    "**Justificación del tipo de gráfico utilizado**\n",
    "\n",
    "Para representar el porcentaje de votos ponderados por candidatura y por estamento, se ha optado por gráficos de barras verticales (y apiladas en su caso). Este tipo de gráfico es especialmente adecuado porque:\n",
    "\n",
    "- Permite comparar de forma clara y precisa los porcentajes obtenidos por cada candidatura, tanto en el total como desglosado por estamento.\n",
    "- Las diferencias entre candidatos y entre estamentos se visualizan fácilmente, incluso cuando los valores son próximos.\n",
    "- Es sencillo añadir etiquetas, leyendas y personalizar colores para mejorar la interpretación.\n",
    "- La escala lineal facilita la comparación directa de magnitudes.\n",
    "\n",
    "**Comparación con los gráficos de la web oficial**\n",
    "\n",
    "En la web oficial, se utilizan principalmente:\n",
    "\n",
    "- Un gráfico de pastel para mostrar el porcentaje total de votos ponderados por candidato.\n",
    "- Un gráfico de barras horizontales para mostrar los porcentajes por sectores (estamentos).\n",
    "\n",
    "    **Ventajas de los gráficos realizados en el notebook:**\n",
    "\n",
    "    - El gráfico de barras vertical (o apilado) permite comparar de un vistazo tanto el total como la distribución interna por estamento, mientras que el gráfico de pastel solo muestra la proporción global y dificulta la comparación precisa.\n",
    "    - Los nombres de los candidatos pueden acortarse y disponerse horizontalmente, mejorando la legibilidad respecto a los gráficos oficiales.\n",
    "    - La personalización de colores, etiquetas y leyendas es más flexible, lo que facilita la interpretación y la adaptación a las necesidades del análisis.\n",
    "    - El gráfico de barras es más adecuado cuando hay más de dos o tres categorías y cuando se busca comparar valores exactos, no solo proporciones.\n",
    "    \n",
    "    **Conclusión:**\n",
    "    - El gráfico de barras vertical (y apilado) es más informativo y preciso para comparar resultados entre candidaturas y estamentos, mientras que el gráfico de pastel es útil solo para mostrar proporciones generales, pero no para análisis detallados. Por ello, la elección de barras es más adecuada para el objetivo de este análisis."
   ]
  },
  {
   "cell_type": "markdown",
   "id": "f17bcbc4",
   "metadata": {},
   "source": [
    "---"
   ]
  },
  {
   "cell_type": "markdown",
   "id": "2e4a7217",
   "metadata": {},
   "source": [
    "### **Apartado 3: Histórico de participación por estamento (2017–2025)**\n",
    "\n",
    "Representa la evolución de la participación de cada estamento en todas las elecciones disponibles (2017, 2021, 2025a, 2025b), incluyendo las vueltas correspondientes. El gráfico debe permitir comparar la tendencia de participación de cada estamento a lo largo del tiempo. Una \n",
    "vez realizado, responde a las siguientes preguntas: \n",
    "- ¿En qué elecciones ha habido más participación en cada uno de los estamentos?"
   ]
  },
  {
   "cell_type": "code",
   "execution_count": null,
   "id": "2ac64790",
   "metadata": {},
   "outputs": [],
   "source": [
    "# Cargar y procesar todos los ficheros de participación disponibles\n",
    "def extraer_info_nombre(nombre):\n",
    "    base = os.path.basename(nombre)\n",
    "    partes = base.split('_')\n",
    "    anio = partes[0]\n",
    "    vuelta = partes[1]\n",
    "    return anio, vuelta\n",
    "\n",
    "archivos = sorted(glob.glob('data/*_participation_data.csv'))\n",
    "resumen = []\n",
    "for archivo in archivos:\n",
    "    anio, vuelta = extraer_info_nombre(archivo)\n",
    "    df = pd.read_csv(archivo, delimiter='\\t')\n",
    "    for estamento in df['Category'].unique():\n",
    "        sub_df = df[df['Category'] == estamento]\n",
    "        censo = sub_df['Censo'].sum()\n",
    "        votos = sub_df['Votos'].sum()\n",
    "        pct = 100 * votos / censo if censo > 0 else 0\n",
    "        resumen.append({\n",
    "            'Año': anio, \n",
    "            'Vuelta': vuelta, \n",
    "            'Estamento': get_nombre(estamento), \n",
    "            '% Participación': pct\n",
    "        })\n",
    "        \n",
    "historico = pd.DataFrame(resumen)\n",
    "historico"
   ]
  },
  {
   "cell_type": "code",
   "execution_count": null,
   "id": "44bb4b5c",
   "metadata": {},
   "outputs": [],
   "source": [
    "# Función para graficar la evolución histórica de participación por estamento\n",
    "def graficar_evolucion_participacion(df: pd.DataFrame, titulo: str):\n",
    "    plt.figure(figsize=(10, 6))\n",
    "    for estamento in df['Estamento'].unique():\n",
    "        datos = df[df['Estamento'] == estamento]\n",
    "        x = datos['Año'] + '-' + datos['Vuelta']\n",
    "        color = None\n",
    "        for clave, info in estamentos_info.items():\n",
    "            if info['nombre'] == estamento:\n",
    "                color = info['color']\n",
    "                break\n",
    "        plt.plot(x, datos['% Participación'], marker='o', label=estamento, color=color)\n",
    "    plt.ylabel('% Participación')\n",
    "    plt.xlabel('Elección (Año-Vuelta)')\n",
    "    plt.title(titulo)\n",
    "    plt.ylim(0, 100)\n",
    "    plt.yticks(range(0, 101, 5))  # Detallar eje Y cada 5%\n",
    "    plt.legend(title='Estamento')\n",
    "    plt.grid(True, linestyle='--', alpha=0.7)\n",
    "    plt.tight_layout()\n",
    "    plt.show()\n",
    "\n",
    "graficar_evolucion_participacion(historico, 'Histórico de participación por estamento (2017–2025)')"
   ]
  },
  {
   "cell_type": "markdown",
   "id": "edc5ee98",
   "metadata": {},
   "source": [
    "**Justificación del gráfico de líneas para el histórico de participación por estamento**\n",
    "\n",
    "Para analizar la evolución de la participación por estamento a lo largo de varias elecciones y vueltas, el gráfico de líneas es la opción más adecuada porque:\n",
    "\n",
    "- Permite visualizar claramente las tendencias y cambios en la participación de cada estamento a lo largo del tiempo.\n",
    "- Facilita la comparación directa entre estamentos en cada elección y la identificación de patrones o anomalías.\n",
    "- El uso de diferentes colores y marcadores para cada estamento ayuda a distinguirlos fácilmente.\n",
    "- Es posible observar de un vistazo en qué elecciones ha habido picos o caídas de participación para cada grupo.\n",
    "\n",
    "Otros tipos de gráficos, como barras, serían menos eficaces para mostrar la evolución temporal y las comparaciones simultáneas entre varios grupos.\n",
    "\n",
    "**Respuesta: ¿En qué elecciones ha habido más participación en cada uno de los estamentos?**\n",
    "\n",
    "Analizando el gráfico generado:\n",
    "\n",
    "- **Permanente:** La mayor participación se observa en 2017-v1, aunque también es alta en 2025b-v1.\n",
    "- **No_Permanente:** El valor más alto se da en 2017-v2 y 2017-v1, con un repunte en 2025b-v1.\n",
    "- **PDIF:** La participación máxima se alcanza en 2017-v2 y 2017-v1, y vuelve a subir en 2025b-v1.\n",
    "- **Estudiantes:** El mayor porcentaje se da en 2017-v1, con una caída progresiva en las siguientes elecciones.\n",
    "- **PTGAS:** La mayor participación se observa en 2025b-v1, seguida de cerca por 2017-v1.\n",
    "\n",
    "En resumen, la participación más alta para la mayoría de los estamentos se da en las elecciones de 2017 (especialmente en la primera vuelta), aunque en el caso de PTGAS y algunos otros hay un repunte en 2025b-v1."
   ]
  },
  {
   "cell_type": "markdown",
   "id": "c3f99b07",
   "metadata": {},
   "source": [
    "---"
   ]
  },
  {
   "cell_type": "markdown",
   "id": "a14e1c89",
   "metadata": {},
   "source": [
    "## **Parte 2: Múltiples gráficos con matplotlib (subplots)**\n",
    "\n",
    "En esta segunda parte vamos a repetir los mismos ejercicios de la Parte 1, pero ahora desglosando los resultados por centro o facultad de la UAM. El objetivo es aprender a trabajar con múltiples gráficos en una misma figura (subplots) y a mejorar su presentación visual. Todos los gráficos deben realizarse con la librería matplotlib. No se especifica la disposición de los subplots ni las modificaciones de estilo que debes aplicar: deberás decidir qué organización es más adecuada en cada caso (rejilla de subplots, disposición por filas o columnas, etc.). En el notebook, tras cada figura deberás escribir una breve justificación explicando por qué has elegido esa representación con subplots y, en caso de haber aplicado modificaciones de estilo \n",
    "(como compartir ejes, unificar la leyenda, modificar colores o tipografías, ajustar espaciados, etc.), deberás justificar también esas decisiones de diseño. "
   ]
  },
  {
   "cell_type": "markdown",
   "id": "4b4c3f9b",
   "metadata": {},
   "source": [
    "### **Apartado 1: Participación por estamento y centro (2021)**\n",
    "\n",
    "Representa los porcentajes de participación por estamento, desglosados por centro, para la primera y la segunda vuelta de las elecciones de 2021. Cada subplot debe mostrar los datos de un centro distinto. Una vez realizado, responde a la siguiente pregunta:\n",
    " \n",
    "- ¿Qué centro y qué estamento tuvo la máxima participación en cada una de las vueltas de las elecciones de 2021?"
   ]
  },
  {
   "cell_type": "code",
   "execution_count": null,
   "id": "752dc4f4",
   "metadata": {},
   "outputs": [],
   "source": [
    "# Añadir columna de porcentaje de participación si no existe\n",
    "def agregar_porcentaje_participacion(df):\n",
    "    if '% Participación' not in df.columns:\n",
    "        df = df.copy()\n",
    "        df['% Participación'] = df['Votos'] / df['Censo'] * 100\n",
    "    return df[df['Censo'] > 0]\n",
    "\n",
    "def graficar_subplots_participacion(df, titulo):\n",
    "    df = agregar_porcentaje_participacion(df)\n",
    "    centros = sorted(df['Center'].unique())\n",
    "    n = len(centros)\n",
    "    ncols = 4\n",
    "    nrows = (n + ncols - 1) // ncols\n",
    "\n",
    "    fig, axes = plt.subplots(nrows=nrows, ncols=ncols, figsize=(16, 3.5 * nrows), sharey=True)\n",
    "    axes = axes.flatten()\n",
    "\n",
    "    for i, centro in enumerate(centros):\n",
    "        ax = axes[i]\n",
    "        datos = df[df['Center'] == centro]\n",
    "        estamentos = datos['Category']\n",
    "        valores = datos['% Participación']\n",
    "        colores = [get_color(est) for est in estamentos]\n",
    "        nombres = [get_nombre(est) for est in estamentos]\n",
    "        bars = ax.bar(nombres, valores, color=colores)\n",
    "        ax.set_title(centro, fontsize=10)\n",
    "        ax.set_xticks(range(len(nombres)))\n",
    "        ax.set_xticklabels(nombres, rotation=0, ha='center', fontsize=8)\n",
    "        for j, v in enumerate(valores):\n",
    "            ax.text(j, v + 1, f'{v:.1f}%', ha='center', va='bottom', fontsize=8)\n",
    "        ax.set_ylim(0, 100)\n",
    "        ax.grid(True, axis='y', linestyle='--', alpha=0.5)\n",
    "\n",
    "    # Eliminar subplots vacíos\n",
    "    for j in range(i + 1, len(axes)):\n",
    "        fig.delaxes(axes[j])\n",
    "        \n",
    "    # Crear handles y labels para la leyenda\n",
    "    import matplotlib.patches as mpatches\n",
    "    handles = [mpatches.Patch(color=get_color(est), label=get_nombre(est)) for est in estamentos_info.keys()]\n",
    "    fig.legend(handles=handles, loc='lower right', bbox_to_anchor=(0.8, 0.1), title='Estamento')\n",
    "\n",
    "    fig.suptitle(titulo, fontsize=14)\n",
    "    fig.tight_layout(rect=[0, 0, 1, 0.96])\n",
    "    plt.show()\n",
    "    \n",
    "graficar_subplots_participacion(participacion_2021_v1, 'Participación por estamento y centro - Elecciones 2021 (Vuelta 1)')\n",
    "graficar_subplots_participacion(participacion_2021_v2, 'Participación por estamento y centro - Elecciones 2021 (Vuelta 2)')"
   ]
  },
  {
   "cell_type": "markdown",
   "id": "2320cea1",
   "metadata": {},
   "source": [
    "### **Apartado 2: Votos ponderados por candidatura y centro (2021)**\n",
    "\n",
    "Representa los porcentajes de votos ponderados por candidato, desglosados por centro, tanto en la primera como en la segunda vuelta de las elecciones de 2021. Cada subplot debe corresponder a un centro distinto. \n",
    "\n",
    "- ¿En qué centro obtuvo el/la candidato/a ganador/a el mayor porcentaje de votos ponderados?"
   ]
  },
  {
   "cell_type": "markdown",
   "id": "72d9d5d1",
   "metadata": {},
   "source": [
    "### **Apartado 3: Histórico de participación por estamento y centro (2017–2025)**\n",
    "\n",
    "Representa la evolución de la participación de cada estamento en todas las elecciones, pero desglosada por centro. Cada subplot debe mostrar los resultados históricos de un centro. \n",
    "\n",
    "Responde a la siguiente pregunta: \n",
    "- ¿En qué año, centro y estamento se obtuvo la mínima y la máxima participación?"
   ]
  },
  {
   "cell_type": "markdown",
   "id": "b45fe1af",
   "metadata": {},
   "source": [
    "### **Apartado 4: Exportación de las gráficas**\n",
    "\n",
    "Exporta las gráficas de los Apartados 1-3 en ficheros PDF. Las gráficas deben tener la mejor calidad de imagen posible."
   ]
  }
 ],
 "metadata": {
  "kernelspec": {
   "display_name": "Python 3",
   "language": "python",
   "name": "python3"
  },
  "language_info": {
   "codemirror_mode": {
    "name": "ipython",
    "version": 3
   },
   "file_extension": ".py",
   "mimetype": "text/x-python",
   "name": "python",
   "nbconvert_exporter": "python",
   "pygments_lexer": "ipython3",
   "version": "3.13.7"
  }
 },
 "nbformat": 4,
 "nbformat_minor": 5
}
