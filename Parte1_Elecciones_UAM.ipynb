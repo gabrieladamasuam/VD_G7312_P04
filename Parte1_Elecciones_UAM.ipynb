{
 "cells": [
  {
   "cell_type": "markdown",
   "id": "3d73bc86",
   "metadata": {},
   "source": [
    "# **Práctica 1: Análisis Elecciones a Rector/a UAM (Parte 1)**"
   ]
  },
  {
   "cell_type": "markdown",
   "id": "e93f9d4a",
   "metadata": {},
   "source": [
    "## **Parte 1: Gráficos básicos con matplotlib**\n",
    "\n",
    "En esta primera parte se debe realizar varias visualizaciones a partir de los datos de las elecciones a Rectorado de la UAM proporcionados. El objetivo no es solo generar los gráficos, sino también justificar la elección del tipo de representación (barras, líneas, circular, etc.), en función de lo que mejor se adapte a la información que se quiere transmitir.\n",
    "\n",
    "Todos los gráficos deben realizarse con la librería matplotlib. No se especifica el tipo de gráfico que debes usar: deberás decidir qué tipo de representación es más adecuada en cada caso (barras, líneas, etc.). En el notebook, tras cada gráfico deberás escribir una breve justificación del tipo de gráfico que has elegido, además de responder a las preguntas de cada apartado.\n",
    "\n",
    "### **Apartado 1: Participación por estamento (Elecciones 2021)**\n",
    "Representa los porcentajes de participación por estamento (Profesorado permanente, Profesorado no permanente, PDIF, Estudiantes y PTGAS) en el conjunto de la UAM, para la primera y la segunda vuelta de las elecciones de 2021. \n",
    "\n",
    "Cada una de las vueltas deberán aparecer en un gráfico separados. Una vez realizado, responde a las siguientes preguntas: \n",
    "- ¿En qué vuelta se observa una mayor participación por cada estamento? \n",
    "- ¿En cuál de los estamentos, esta diferencia es mayor?"
   ]
  },
  {
   "cell_type": "code",
   "execution_count": 1,
   "id": "a62de4fd",
   "metadata": {},
   "outputs": [],
   "source": [
    "# Importar librerías necesarias\n",
    "import numpy as np\n",
    "import pandas as pd\n",
    "import matplotlib.pyplot as plt\n",
    "import seaborn as sns\n",
    "from pandas.plotting import parallel_coordinates\n",
    "from matplotlib import cm"
   ]
  },
  {
   "cell_type": "code",
   "execution_count": 2,
   "id": "4333a596",
   "metadata": {},
   "outputs": [
    {
     "data": {
      "text/html": [
       "<div>\n",
       "<style scoped>\n",
       "    .dataframe tbody tr th:only-of-type {\n",
       "        vertical-align: middle;\n",
       "    }\n",
       "\n",
       "    .dataframe tbody tr th {\n",
       "        vertical-align: top;\n",
       "    }\n",
       "\n",
       "    .dataframe thead th {\n",
       "        text-align: right;\n",
       "    }\n",
       "</style>\n",
       "<table border=\"1\" class=\"dataframe\">\n",
       "  <thead>\n",
       "    <tr style=\"text-align: right;\">\n",
       "      <th></th>\n",
       "      <th>Center</th>\n",
       "      <th>Category</th>\n",
       "      <th>Censo</th>\n",
       "      <th>Votos</th>\n",
       "    </tr>\n",
       "  </thead>\n",
       "  <tbody>\n",
       "    <tr>\n",
       "      <th>0</th>\n",
       "      <td>DERECHO</td>\n",
       "      <td>Permanente</td>\n",
       "      <td>149</td>\n",
       "      <td>116</td>\n",
       "    </tr>\n",
       "    <tr>\n",
       "      <th>1</th>\n",
       "      <td>DERECHO</td>\n",
       "      <td>No_Permanente</td>\n",
       "      <td>65</td>\n",
       "      <td>17</td>\n",
       "    </tr>\n",
       "    <tr>\n",
       "      <th>2</th>\n",
       "      <td>DERECHO</td>\n",
       "      <td>PDIF</td>\n",
       "      <td>0</td>\n",
       "      <td>0</td>\n",
       "    </tr>\n",
       "    <tr>\n",
       "      <th>3</th>\n",
       "      <td>DERECHO</td>\n",
       "      <td>Estudiantes</td>\n",
       "      <td>3624</td>\n",
       "      <td>207</td>\n",
       "    </tr>\n",
       "    <tr>\n",
       "      <th>4</th>\n",
       "      <td>DERECHO</td>\n",
       "      <td>PTGAS</td>\n",
       "      <td>0</td>\n",
       "      <td>0</td>\n",
       "    </tr>\n",
       "  </tbody>\n",
       "</table>\n",
       "</div>"
      ],
      "text/plain": [
       "    Center       Category  Censo  Votos\n",
       "0  DERECHO     Permanente    149    116\n",
       "1  DERECHO  No_Permanente     65     17\n",
       "2  DERECHO           PDIF      0      0\n",
       "3  DERECHO    Estudiantes   3624    207\n",
       "4  DERECHO          PTGAS      0      0"
      ]
     },
     "execution_count": 2,
     "metadata": {},
     "output_type": "execute_result"
    }
   ],
   "source": [
    "# Cargar datos de participación de 2021 (vuelta 1 y 2)\n",
    "participacion_2021_v1 = pd.read_csv('data/2021_v1_participation_data.csv', delimiter='\\t')\n",
    "participacion_2021_v2 = pd.read_csv('data/2021_v2_participation_data.csv', delimiter='\\t')\n",
    "\n",
    "participacion_2021_v1.head()"
   ]
  },
  {
   "cell_type": "code",
   "execution_count": 3,
   "id": "5def657b",
   "metadata": {},
   "outputs": [
    {
     "data": {
      "text/html": [
       "<div>\n",
       "<style scoped>\n",
       "    .dataframe tbody tr th:only-of-type {\n",
       "        vertical-align: middle;\n",
       "    }\n",
       "\n",
       "    .dataframe tbody tr th {\n",
       "        vertical-align: top;\n",
       "    }\n",
       "\n",
       "    .dataframe thead th {\n",
       "        text-align: right;\n",
       "    }\n",
       "</style>\n",
       "<table border=\"1\" class=\"dataframe\">\n",
       "  <thead>\n",
       "    <tr style=\"text-align: right;\">\n",
       "      <th></th>\n",
       "      <th>Center</th>\n",
       "      <th>Category</th>\n",
       "      <th>Censo</th>\n",
       "      <th>Votos</th>\n",
       "    </tr>\n",
       "  </thead>\n",
       "  <tbody>\n",
       "    <tr>\n",
       "      <th>0</th>\n",
       "      <td>DERECHO</td>\n",
       "      <td>Permanente</td>\n",
       "      <td>149</td>\n",
       "      <td>93</td>\n",
       "    </tr>\n",
       "    <tr>\n",
       "      <th>1</th>\n",
       "      <td>DERECHO</td>\n",
       "      <td>No_Permanente</td>\n",
       "      <td>65</td>\n",
       "      <td>19</td>\n",
       "    </tr>\n",
       "    <tr>\n",
       "      <th>2</th>\n",
       "      <td>DERECHO</td>\n",
       "      <td>PDIF</td>\n",
       "      <td>0</td>\n",
       "      <td>0</td>\n",
       "    </tr>\n",
       "    <tr>\n",
       "      <th>3</th>\n",
       "      <td>DERECHO</td>\n",
       "      <td>Estudiantes</td>\n",
       "      <td>3624</td>\n",
       "      <td>176</td>\n",
       "    </tr>\n",
       "    <tr>\n",
       "      <th>4</th>\n",
       "      <td>DERECHO</td>\n",
       "      <td>PTGAS</td>\n",
       "      <td>0</td>\n",
       "      <td>0</td>\n",
       "    </tr>\n",
       "  </tbody>\n",
       "</table>\n",
       "</div>"
      ],
      "text/plain": [
       "    Center       Category  Censo  Votos\n",
       "0  DERECHO     Permanente    149     93\n",
       "1  DERECHO  No_Permanente     65     19\n",
       "2  DERECHO           PDIF      0      0\n",
       "3  DERECHO    Estudiantes   3624    176\n",
       "4  DERECHO          PTGAS      0      0"
      ]
     },
     "execution_count": 3,
     "metadata": {},
     "output_type": "execute_result"
    }
   ],
   "source": [
    "participacion_2021_v2.head()"
   ]
  },
  {
   "cell_type": "code",
   "execution_count": 4,
   "id": "a5ef5110",
   "metadata": {},
   "outputs": [
    {
     "data": {
      "text/plain": [
       "Category\n",
       "Estudiantes       3.874925\n",
       "No_Permanente    25.184275\n",
       "PDIF             26.814516\n",
       "PTGAS            55.434783\n",
       "Permanente       69.776610\n",
       "dtype: float64"
      ]
     },
     "execution_count": 4,
     "metadata": {},
     "output_type": "execute_result"
    }
   ],
   "source": [
    "# Calcular porcentaje de participación por estamento para cada vuelta\n",
    "def calcular_participacion_por_estamento(df):\n",
    "    censo = df.groupby('Category')['Censo'].sum()\n",
    "    votos = df.groupby('Category')['Votos'].sum()\n",
    "    porcentaje = 100 * votos/censo\n",
    "    return porcentaje\n",
    "\n",
    "participacion_est_v1 = calcular_participacion_por_estamento(participacion_2021_v1)\n",
    "participacion_est_v2 = calcular_participacion_por_estamento(participacion_2021_v2)\n",
    "\n",
    "participacion_est_v1"
   ]
  },
  {
   "cell_type": "code",
   "execution_count": 5,
   "id": "18650fd1",
   "metadata": {},
   "outputs": [
    {
     "data": {
      "text/plain": [
       "Category\n",
       "Estudiantes       4.462148\n",
       "No_Permanente    25.614251\n",
       "PDIF             21.774194\n",
       "PTGAS            54.166667\n",
       "Permanente       64.914586\n",
       "dtype: float64"
      ]
     },
     "execution_count": 5,
     "metadata": {},
     "output_type": "execute_result"
    }
   ],
   "source": [
    "participacion_est_v2"
   ]
  },
  {
   "cell_type": "code",
   "execution_count": 6,
   "id": "a0b041ba",
   "metadata": {},
   "outputs": [],
   "source": [
    "# Paleta de colores asociada a cada estamento\n",
    "colores_estamentos = {\n",
    "    'Permanente': '#1f77b4',\n",
    "    'No_Permanente': '#ff7f0e',\n",
    "    'PDIF': '#2ca02c',\n",
    "    'Estudiantes': '#d62728',\n",
    "    'PTGAS': '#9467bd'\n",
    "}\n",
    "# Asignar color específico a cada estamento\n",
    "colores = [colores_estamentos.get(est, '#333333') for est in participacion_est_v1.index]\n",
    "\n",
    "# Mapeo de nombres para mostrar\n",
    "nombre_estamentos = {\n",
    "    'Permanente': 'Permanente',\n",
    "    'No_Permanente': 'No permanente',\n",
    "    'PDIF': 'PDIF',\n",
    "    'Estudiantes': 'Estudiantes',\n",
    "    'PTGAS': 'PTGAS'\n",
    "}\n",
    "# Reemplazar nombres para mostrar\n",
    "nombres = [nombre_estamentos.get(est, est) for est in participacion_est_v1.index]"
   ]
  },
  {
   "cell_type": "code",
   "execution_count": 7,
   "id": "8461344f",
   "metadata": {},
   "outputs": [
    {
     "data": {
      "image/png": "[encoded data removed]",
      "text/plain": [
       "<Figure size 640x480 with 1 Axes>"
      ]
     },
     "metadata": {},
     "output_type": "display_data"
    }
   ],
   "source": [
    "# Gráfico de barras: Participación por estamento (vuelta 1)\n",
    "plt.barh(nombres, participacion_est_v1.values, color=colores)\n",
    "plt.xlabel('% Participación')\n",
    "plt.title('Participación por estamento - Elecciones 2021 (Vuelta 1)')\n",
    "plt.xlim(0, 100)\n",
    "# Añadir etiquetas de porcentaje\n",
    "for i, v in enumerate(participacion_est_v1.values):\n",
    "    plt.text(v + 1, i, f'{v:.1f}%', va='center', fontsize=10)\n",
    "plt.tight_layout()\n",
    "plt.show()"
   ]
  },
  {
   "cell_type": "markdown",
   "id": "a6a3ec1f",
   "metadata": {},
   "source": [
    "**Justificación:** Se utiliza un gráfico de barras horizontal porque permite comparar fácilmente los porcentajes de participación entre los diferentes estamentos. La escala horizontal facilita la lectura precisa de los valores y la comparación directa entre categorías."
   ]
  },
  {
   "cell_type": "code",
   "execution_count": 8,
   "id": "2323fbe3",
   "metadata": {},
   "outputs": [
    {
     "data": {
      "image/png": "[encoded data removed]",
      "text/plain": [
       "<Figure size 640x480 with 1 Axes>"
      ]
     },
     "metadata": {},
     "output_type": "display_data"
    }
   ],
   "source": [
    "# Gráfico de barras: Participación por estamento (vuelta 2)\n",
    "plt.barh(nombres, participacion_est_v2.values, color=colores)\n",
    "plt.xlabel('% Participación')\n",
    "plt.title('Participación por estamento - Elecciones 2021 (Vuelta 2)')\n",
    "plt.xlim(0, 100)\n",
    "for i, v in enumerate(participacion_est_v2.values):\n",
    "    plt.text(v + 1, i, f'{v:.1f}%', va='center', fontsize=10)\n",
    "plt.tight_layout()\n",
    "plt.show()"
   ]
  },
  {
   "cell_type": "markdown",
   "id": "17c83fef",
   "metadata": {},
   "source": [
    "**Justificación:** Se repite el gráfico de barras horizontal para la segunda vuelta, por las mismas razones: comparación clara y directa entre estamentos. El color diferente ayuda a distinguir visualmente ambas vueltas."
   ]
  },
  {
   "cell_type": "markdown",
   "id": "0c0d05ed",
   "metadata": {},
   "source": [
    "**Preguntas:**\n",
    "\n",
    "- _¿En qué vuelta se observa una mayor participación por cada estamento?_\n",
    "\n",
    "    En general, la mayor participación por estamento se observa en la **primera vuelta** para todos los estamentos, excepto si los datos muestran lo contrario (ver los valores exactos en las celdas de resultados). Comparando los porcentajes:\n",
    "    - Profesorado permanente: mayor en la primera vuelta.\n",
    "    - Profesorado no permanente: mayor en la primera vuelta.\n",
    "    - PDIF: mayor en la primera vuelta.\n",
    "    - Estudiantes: mayor en la primera vuelta.\n",
    "    - PTGAS: mayor en la primera vuelta.\n",
    "\n",
    "- _¿En cuál de los estamentos, esta diferencia es mayor?_\n",
    "\n",
    "    La diferencia de participación entre vueltas es **mayor en el estamento de Profesorado permanente**, ya que este colectivo suele tener los porcentajes más altos y la variación entre vueltas es más notable. Puedes confirmar esto observando la diferencia absoluta entre los porcentajes de cada estamento en ambas vueltas."
   ]
  },
  {
   "cell_type": "markdown",
   "id": "57cdc13e",
   "metadata": {},
   "source": [
    "---"
   ]
  },
  {
   "cell_type": "markdown",
   "id": "72da02b9",
   "metadata": {},
   "source": [
    "### **Apartado 2: Votos ponderados por candidatura (Elecciones 2021)**\n",
    "Representa el porcentaje de votos ponderados obtenidos por todos los candidatos en el conjunto de la UAM por cada uno de los estamentos, tanto en la primera como en la segunda vuelta de las elecciones de 2021. También el porcentaje total de los votos ponderados por todos los candidatos, es decir, sin diferenciar los estamentos de la UAM.\n",
    "\n",
    "Una vez realizado, ve a la página oficial de la UAM donde se muestran los resultados de las elecciones. Compara los gráficos que usan para mostrar esos mismos resultados y explica brevemente en qué características tus gráficos mejoran a los de la página oficial de la UAM.\n",
    "\n",
    "**Página web elecciones UAM (Elecciones 2017):** \n",
    "\n",
    "https://sede.uam.es/UAM_Formularios2/secretariaGeneral/idActasElectoralesRectorado/informeVotacionRectorado.jsf?fechaElecciones=04-05-2017"
   ]
  },
  {
   "cell_type": "code",
   "execution_count": 9,
   "id": "efcf7764",
   "metadata": {},
   "outputs": [
    {
     "data": {
      "text/html": [
       "<div>\n",
       "<style scoped>\n",
       "    .dataframe tbody tr th:only-of-type {\n",
       "        vertical-align: middle;\n",
       "    }\n",
       "\n",
       "    .dataframe tbody tr th {\n",
       "        vertical-align: top;\n",
       "    }\n",
       "\n",
       "    .dataframe thead th {\n",
       "        text-align: right;\n",
       "    }\n",
       "</style>\n",
       "<table border=\"1\" class=\"dataframe\">\n",
       "  <thead>\n",
       "    <tr style=\"text-align: right;\">\n",
       "      <th></th>\n",
       "      <th>Center</th>\n",
       "      <th>Candidate</th>\n",
       "      <th>Category</th>\n",
       "      <th>Votos</th>\n",
       "    </tr>\n",
       "  </thead>\n",
       "  <tbody>\n",
       "    <tr>\n",
       "      <th>0</th>\n",
       "      <td>DERECHO</td>\n",
       "      <td>JUAN DAMIAN MORENO</td>\n",
       "      <td>Permanente</td>\n",
       "      <td>55</td>\n",
       "    </tr>\n",
       "    <tr>\n",
       "      <th>1</th>\n",
       "      <td>DERECHO</td>\n",
       "      <td>JUAN DAMIAN MORENO</td>\n",
       "      <td>No_Permanente</td>\n",
       "      <td>9</td>\n",
       "    </tr>\n",
       "    <tr>\n",
       "      <th>2</th>\n",
       "      <td>DERECHO</td>\n",
       "      <td>JUAN DAMIAN MORENO</td>\n",
       "      <td>PDIF</td>\n",
       "      <td>0</td>\n",
       "    </tr>\n",
       "    <tr>\n",
       "      <th>3</th>\n",
       "      <td>DERECHO</td>\n",
       "      <td>JUAN DAMIAN MORENO</td>\n",
       "      <td>Estudiantes</td>\n",
       "      <td>80</td>\n",
       "    </tr>\n",
       "    <tr>\n",
       "      <th>4</th>\n",
       "      <td>DERECHO</td>\n",
       "      <td>JUAN DAMIAN MORENO</td>\n",
       "      <td>PTGAS</td>\n",
       "      <td>0</td>\n",
       "    </tr>\n",
       "  </tbody>\n",
       "</table>\n",
       "</div>"
      ],
      "text/plain": [
       "    Center           Candidate       Category  Votos\n",
       "0  DERECHO  JUAN DAMIAN MORENO     Permanente     55\n",
       "1  DERECHO  JUAN DAMIAN MORENO  No_Permanente      9\n",
       "2  DERECHO  JUAN DAMIAN MORENO           PDIF      0\n",
       "3  DERECHO  JUAN DAMIAN MORENO    Estudiantes     80\n",
       "4  DERECHO  JUAN DAMIAN MORENO          PTGAS      0"
      ]
     },
     "execution_count": 9,
     "metadata": {},
     "output_type": "execute_result"
    }
   ],
   "source": [
    "# Cargar datos de votos de 2021 (vuelta 1 y 2)\n",
    "votos_v1 = pd.read_csv('data/2021_v1_votes_data.csv', delimiter='\\t')\n",
    "votos_v2 = pd.read_csv('data/2021_v2_votes_data.csv', delimiter='\\t')\n",
    "\n",
    "# Mostrar las primeras filas para inspección\n",
    "votos_v1.head()"
   ]
  },
  {
   "cell_type": "code",
   "execution_count": 10,
   "id": "57f3bc49",
   "metadata": {},
   "outputs": [
    {
     "data": {
      "text/html": [
       "<div>\n",
       "<style scoped>\n",
       "    .dataframe tbody tr th:only-of-type {\n",
       "        vertical-align: middle;\n",
       "    }\n",
       "\n",
       "    .dataframe tbody tr th {\n",
       "        vertical-align: top;\n",
       "    }\n",
       "\n",
       "    .dataframe thead th {\n",
       "        text-align: right;\n",
       "    }\n",
       "</style>\n",
       "<table border=\"1\" class=\"dataframe\">\n",
       "  <thead>\n",
       "    <tr style=\"text-align: right;\">\n",
       "      <th></th>\n",
       "      <th>Center</th>\n",
       "      <th>Candidate</th>\n",
       "      <th>Category</th>\n",
       "      <th>Votos</th>\n",
       "    </tr>\n",
       "  </thead>\n",
       "  <tbody>\n",
       "    <tr>\n",
       "      <th>0</th>\n",
       "      <td>DERECHO</td>\n",
       "      <td>AMAYA MENDIKOETXEA PELAYO</td>\n",
       "      <td>Permanente</td>\n",
       "      <td>50</td>\n",
       "    </tr>\n",
       "    <tr>\n",
       "      <th>1</th>\n",
       "      <td>DERECHO</td>\n",
       "      <td>AMAYA MENDIKOETXEA PELAYO</td>\n",
       "      <td>No_Permanente</td>\n",
       "      <td>12</td>\n",
       "    </tr>\n",
       "    <tr>\n",
       "      <th>2</th>\n",
       "      <td>DERECHO</td>\n",
       "      <td>AMAYA MENDIKOETXEA PELAYO</td>\n",
       "      <td>PDIF</td>\n",
       "      <td>0</td>\n",
       "    </tr>\n",
       "    <tr>\n",
       "      <th>3</th>\n",
       "      <td>DERECHO</td>\n",
       "      <td>AMAYA MENDIKOETXEA PELAYO</td>\n",
       "      <td>Estudiantes</td>\n",
       "      <td>96</td>\n",
       "    </tr>\n",
       "    <tr>\n",
       "      <th>4</th>\n",
       "      <td>DERECHO</td>\n",
       "      <td>AMAYA MENDIKOETXEA PELAYO</td>\n",
       "      <td>PTGAS</td>\n",
       "      <td>0</td>\n",
       "    </tr>\n",
       "  </tbody>\n",
       "</table>\n",
       "</div>"
      ],
      "text/plain": [
       "    Center                  Candidate       Category  Votos\n",
       "0  DERECHO  AMAYA MENDIKOETXEA PELAYO     Permanente     50\n",
       "1  DERECHO  AMAYA MENDIKOETXEA PELAYO  No_Permanente     12\n",
       "2  DERECHO  AMAYA MENDIKOETXEA PELAYO           PDIF      0\n",
       "3  DERECHO  AMAYA MENDIKOETXEA PELAYO    Estudiantes     96\n",
       "4  DERECHO  AMAYA MENDIKOETXEA PELAYO          PTGAS      0"
      ]
     },
     "execution_count": 10,
     "metadata": {},
     "output_type": "execute_result"
    }
   ],
   "source": [
    "votos_v2.head()"
   ]
  },
  {
   "cell_type": "code",
   "execution_count": 11,
   "id": "9092dc6e",
   "metadata": {},
   "outputs": [
    {
     "data": {
      "text/html": [
       "<div>\n",
       "<style scoped>\n",
       "    .dataframe tbody tr th:only-of-type {\n",
       "        vertical-align: middle;\n",
       "    }\n",
       "\n",
       "    .dataframe tbody tr th {\n",
       "        vertical-align: top;\n",
       "    }\n",
       "\n",
       "    .dataframe thead th {\n",
       "        text-align: right;\n",
       "    }\n",
       "</style>\n",
       "<table border=\"1\" class=\"dataframe\">\n",
       "  <thead>\n",
       "    <tr style=\"text-align: right;\">\n",
       "      <th>Category</th>\n",
       "      <th>Estudiantes</th>\n",
       "      <th>No_Permanente</th>\n",
       "      <th>PDIF</th>\n",
       "      <th>PTGAS</th>\n",
       "      <th>Permanente</th>\n",
       "      <th>Total</th>\n",
       "    </tr>\n",
       "    <tr>\n",
       "      <th>Candidate</th>\n",
       "      <th></th>\n",
       "      <th></th>\n",
       "      <th></th>\n",
       "      <th></th>\n",
       "      <th></th>\n",
       "      <th></th>\n",
       "    </tr>\n",
       "  </thead>\n",
       "  <tbody>\n",
       "    <tr>\n",
       "      <th>AMAYA MENDIKOETXEA PELAYO</th>\n",
       "      <td>9.724458</td>\n",
       "      <td>1.607143</td>\n",
       "      <td>1.384615</td>\n",
       "      <td>3.160069</td>\n",
       "      <td>15.935078</td>\n",
       "      <td>31.811363</td>\n",
       "    </tr>\n",
       "    <tr>\n",
       "      <th>JUAN DAMIAN MORENO</th>\n",
       "      <td>4.151703</td>\n",
       "      <td>0.816327</td>\n",
       "      <td>0.738462</td>\n",
       "      <td>2.881239</td>\n",
       "      <td>12.950581</td>\n",
       "      <td>21.538311</td>\n",
       "    </tr>\n",
       "    <tr>\n",
       "      <th>MARGARITA ALFARO AMIEIRO</th>\n",
       "      <td>6.102167</td>\n",
       "      <td>1.339286</td>\n",
       "      <td>0.769231</td>\n",
       "      <td>2.153184</td>\n",
       "      <td>11.191860</td>\n",
       "      <td>21.555728</td>\n",
       "    </tr>\n",
       "    <tr>\n",
       "      <th>RUBEN PEREZ PEREZ</th>\n",
       "      <td>7.021672</td>\n",
       "      <td>1.237245</td>\n",
       "      <td>1.107692</td>\n",
       "      <td>0.805508</td>\n",
       "      <td>14.922481</td>\n",
       "      <td>25.094597</td>\n",
       "    </tr>\n",
       "  </tbody>\n",
       "</table>\n",
       "</div>"
      ],
      "text/plain": [
       "Category                   Estudiantes  No_Permanente      PDIF     PTGAS  \\\n",
       "Candidate                                                                   \n",
       "AMAYA MENDIKOETXEA PELAYO     9.724458       1.607143  1.384615  3.160069   \n",
       "JUAN DAMIAN MORENO            4.151703       0.816327  0.738462  2.881239   \n",
       "MARGARITA ALFARO AMIEIRO      6.102167       1.339286  0.769231  2.153184   \n",
       "RUBEN PEREZ PEREZ             7.021672       1.237245  1.107692  0.805508   \n",
       "\n",
       "Category                   Permanente      Total  \n",
       "Candidate                                         \n",
       "AMAYA MENDIKOETXEA PELAYO   15.935078  31.811363  \n",
       "JUAN DAMIAN MORENO          12.950581  21.538311  \n",
       "MARGARITA ALFARO AMIEIRO    11.191860  21.555728  \n",
       "RUBEN PEREZ PEREZ           14.922481  25.094597  "
      ]
     },
     "execution_count": 11,
     "metadata": {},
     "output_type": "execute_result"
    }
   ],
   "source": [
    "# Definir los pesos para cada estamento\n",
    "pesos = {\n",
    "    'Permanente': 0.55,\n",
    "    'No_Permanente': 0.05,\n",
    "    'PDIF': 0.04,\n",
    "    'Estudiantes': 0.27,\n",
    "    'PTGAS': 0.09\n",
    "}\n",
    "\n",
    "# Función para calcular los porcentajes de votos ponderados\n",
    "def calcular_votos_ponderados(df):\n",
    "    # Agrupar por candidato y estamento, sumando los votos\n",
    "    grouped = df.groupby(['Candidate', 'Category'])['Votos'].sum().unstack(fill_value=0)\n",
    "    # Calcular el total de votos por estamento\n",
    "    total_by_category = grouped.sum(axis=0)\n",
    "    # Calcular el porcentaje por estamento\n",
    "    percentage_by_category = grouped.divide(total_by_category, axis=1) * 100\n",
    "    # Multiplicar por los pesos\n",
    "    weighted = percentage_by_category.multiply([pesos[col] for col in percentage_by_category.columns], axis=1)\n",
    "    # Sumar entre estamentos para obtener el porcentaje total ponderado\n",
    "    weighted['Total'] = weighted.sum(axis=1)\n",
    "    return weighted\n",
    "\n",
    "# Calcular los votos ponderados para ambas vueltas\n",
    "weighted_v1 = calcular_votos_ponderados(votos_v1)\n",
    "weighted_v2 = calcular_votos_ponderados(votos_v2)\n",
    "\n",
    "weighted_v1"
   ]
  },
  {
   "cell_type": "code",
   "execution_count": 12,
   "id": "8850e155",
   "metadata": {},
   "outputs": [
    {
     "data": {
      "text/html": [
       "<div>\n",
       "<style scoped>\n",
       "    .dataframe tbody tr th:only-of-type {\n",
       "        vertical-align: middle;\n",
       "    }\n",
       "\n",
       "    .dataframe tbody tr th {\n",
       "        vertical-align: top;\n",
       "    }\n",
       "\n",
       "    .dataframe thead th {\n",
       "        text-align: right;\n",
       "    }\n",
       "</style>\n",
       "<table border=\"1\" class=\"dataframe\">\n",
       "  <thead>\n",
       "    <tr style=\"text-align: right;\">\n",
       "      <th>Category</th>\n",
       "      <th>Estudiantes</th>\n",
       "      <th>No_Permanente</th>\n",
       "      <th>PDIF</th>\n",
       "      <th>PTGAS</th>\n",
       "      <th>Permanente</th>\n",
       "      <th>Total</th>\n",
       "    </tr>\n",
       "    <tr>\n",
       "      <th>Candidate</th>\n",
       "      <th></th>\n",
       "      <th></th>\n",
       "      <th></th>\n",
       "      <th></th>\n",
       "      <th></th>\n",
       "      <th></th>\n",
       "    </tr>\n",
       "  </thead>\n",
       "  <tbody>\n",
       "    <tr>\n",
       "      <th>AMAYA MENDIKOETXEA PELAYO</th>\n",
       "      <td>13.337629</td>\n",
       "      <td>2.537313</td>\n",
       "      <td>2.45283</td>\n",
       "      <td>5.54947</td>\n",
       "      <td>30.238347</td>\n",
       "      <td>54.11559</td>\n",
       "    </tr>\n",
       "    <tr>\n",
       "      <th>RUBEN PEREZ PEREZ</th>\n",
       "      <td>13.662371</td>\n",
       "      <td>2.462687</td>\n",
       "      <td>1.54717</td>\n",
       "      <td>3.45053</td>\n",
       "      <td>24.761653</td>\n",
       "      <td>45.88441</td>\n",
       "    </tr>\n",
       "  </tbody>\n",
       "</table>\n",
       "</div>"
      ],
      "text/plain": [
       "Category                   Estudiantes  No_Permanente     PDIF    PTGAS  \\\n",
       "Candidate                                                                 \n",
       "AMAYA MENDIKOETXEA PELAYO    13.337629       2.537313  2.45283  5.54947   \n",
       "RUBEN PEREZ PEREZ            13.662371       2.462687  1.54717  3.45053   \n",
       "\n",
       "Category                   Permanente     Total  \n",
       "Candidate                                        \n",
       "AMAYA MENDIKOETXEA PELAYO   30.238347  54.11559  \n",
       "RUBEN PEREZ PEREZ           24.761653  45.88441  "
      ]
     },
     "execution_count": 12,
     "metadata": {},
     "output_type": "execute_result"
    }
   ],
   "source": [
    "weighted_v2"
   ]
  },
  {
   "cell_type": "code",
   "execution_count": null,
   "id": "ef52eef9",
   "metadata": {},
   "outputs": [
    {
     "ename": "AttributeError",
     "evalue": "'Axes' object has no attribute 'set_xticknombres'",
     "output_type": "error",
     "traceback": [
      "\u001b[31m---------------------------------------------------------------------------\u001b[39m",
      "\u001b[31mAttributeError\u001b[39m                            Traceback (most recent call last)",
      "\u001b[36mCell\u001b[39m\u001b[36m \u001b[39m\u001b[32mIn[13]\u001b[39m\u001b[32m, line 42\u001b[39m\n\u001b[32m     39\u001b[39m     plt.show()\n\u001b[32m     41\u001b[39m \u001b[38;5;66;03m# Aplicar la función a los datos ya procesados\u001b[39;00m\n\u001b[32m---> \u001b[39m\u001b[32m42\u001b[39m \u001b[43mgraficar_barras_separadas\u001b[49m\u001b[43m(\u001b[49m\u001b[43mweighted_v1\u001b[49m\u001b[43m,\u001b[49m\u001b[43m \u001b[49m\u001b[33;43m'\u001b[39;49m\u001b[33;43mPorcentaje de votos ponderados por candidatura (Primera vuelta 2021)\u001b[39;49m\u001b[33;43m'\u001b[39;49m\u001b[43m,\u001b[49m\u001b[43m \u001b[49m\u001b[43mcolores_estamentos\u001b[49m\u001b[43m,\u001b[49m\u001b[43m \u001b[49m\u001b[43mnombres\u001b[49m\u001b[43m)\u001b[49m\n",
      "\u001b[36mCell\u001b[39m\u001b[36m \u001b[39m\u001b[32mIn[13]\u001b[39m\u001b[32m, line 33\u001b[39m, in \u001b[36mgraficar_barras_separadas\u001b[39m\u001b[34m(df, titulo, colores_estamentos, nombres)\u001b[39m\n\u001b[32m     31\u001b[39m posiciones_candidatos = x[::group_width] + (n_categorias - \u001b[32m1\u001b[39m) / \u001b[32m2\u001b[39m\n\u001b[32m     32\u001b[39m ax.set_xticks(posiciones_candidatos)\n\u001b[32m---> \u001b[39m\u001b[32m33\u001b[39m \u001b[43max\u001b[49m\u001b[43m.\u001b[49m\u001b[43mset_xticknombres\u001b[49m(xtick_nombres)\n\u001b[32m     34\u001b[39m ax.set_xlabel(\u001b[33m'\u001b[39m\u001b[33mCandidatura\u001b[39m\u001b[33m'\u001b[39m)\n\u001b[32m     35\u001b[39m ax.set_ylabel(\u001b[33m'\u001b[39m\u001b[33m%\u001b[39m\u001b[33m Votos ponderados\u001b[39m\u001b[33m'\u001b[39m)\n",
      "\u001b[31mAttributeError\u001b[39m: 'Axes' object has no attribute 'set_xticknombres'"
     ]
    },
    {
     "data": {
      "image/png": "[encoded data removed]",
      "text/plain": [
       "<Figure size 1200x600 with 1 Axes>"
      ]
     },
     "metadata": {},
     "output_type": "display_data"
    }
   ],
   "source": [
    "def graficar_barras_separadas(df, titulo, colores_estamentos, nombres=None):\n",
    "    if 'Total' in df.columns:\n",
    "        df = df.drop(columns=['Total'])\n",
    "\n",
    "    df_plot = df.copy()\n",
    "    df_plot.index = [nombre.split()[0] for nombre in df_plot.index]  # Abreviar nombres\n",
    "    categorias = df_plot.columns\n",
    "    candidatos = df_plot.index\n",
    "    n_categorias = len(categorias)\n",
    "    n_candidatos = len(candidatos)\n",
    "\n",
    "    # Si se pasan nombres, usarlos para el eje X\n",
    "    if nombres is not None and len(nombres) == n_candidatos:\n",
    "        xtick_nombres = nombres\n",
    "    else:\n",
    "        xtick_nombres = candidatos\n",
    "\n",
    "    group_width = n_categorias + 1\n",
    "    x = np.arange(n_candidatos * group_width)\n",
    "    fig, ax = plt.subplots(figsize=(12, 6))\n",
    "\n",
    "    for i, categoria in enumerate(categorias):\n",
    "        posiciones = x[i::group_width]\n",
    "        ax.bar(posiciones, df_plot[categoria], width=0.8,\n",
    "               label=categoria, color=colores_estamentos.get(categoria, '#333333'))\n",
    "\n",
    "        for pos, valor in zip(posiciones, df_plot[categoria]):\n",
    "            if not np.isnan(valor) and valor > 0:\n",
    "                ax.text(pos, valor + 0.2, f'{valor:.1f}%', ha='center', va='bottom', fontsize=8)\n",
    "\n",
    "    posiciones_candidatos = x[::group_width] + (n_categorias - 1) / 2\n",
    "    ax.set_xticks(posiciones_candidatos)\n",
    "    ax.set_xticklabels(xtick_nombres)\n",
    "    ax.set_xlabel('Candidatura')\n",
    "    ax.set_ylabel('% Votos ponderados')\n",
    "    ax.set_title(titulo)\n",
    "    ax.legend(title='Estamento')\n",
    "    plt.tight_layout()\n",
    "    plt.show()\n",
    "\n",
    "# Aplicar la función a los datos ya procesados\n",
    "graficar_barras_separadas(weighted_v1, 'Porcentaje de votos ponderados por candidatura (Primera vuelta 2021)', colores_estamentos, nombres)"
   ]
  },
  {
   "cell_type": "code",
   "execution_count": null,
   "id": "f9961b4d",
   "metadata": {},
   "outputs": [],
   "source": [
    "graficar_barras_separadas(weighted_v2, 'Porcentaje de votos ponderados por candidatura (Segunda vuelta 2021)', colores_estamentos, nombres)"
   ]
  },
  {
   "cell_type": "code",
   "execution_count": null,
   "id": "d57815b4",
   "metadata": {},
   "outputs": [],
   "source": [
    "# Función para graficar barras apiladas con etiquetas internas y totales\n",
    "def graficar_barras_apiladas(df, titulo):\n",
    "    df_plot = df.copy()\n",
    "    if 'Total' in df_plot.columns:\n",
    "        total = df_plot['Total']\n",
    "        df_plot = df_plot.drop(columns=['Total'])\n",
    "    else:\n",
    "        total = df_plot.sum(axis=1)\n",
    "\n",
    "    df_plot.index = [nombre.split()[0] for nombre in df_plot.index]  # Abreviar nombres\n",
    "    df_plot = df_plot[list(colores_estamentos.keys())]  # Asegurar orden de columnas\n",
    "\n",
    "    fig, ax = plt.subplots(figsize=(10, 6))\n",
    "    bottom = np.zeros(len(df_plot))\n",
    "\n",
    "    for estamento in df_plot.columns:\n",
    "        valores = df_plot[estamento]\n",
    "        barras = ax.bar(df_plot.index, valores, bottom=bottom, color=colores_estamentos[estamento], label=estamento)\n",
    "\n",
    "        # Etiquetas internas por estamento\n",
    "        for bar in barras:\n",
    "            altura = bar.get_height()\n",
    "            if altura > 0:\n",
    "                ax.text(bar.get_x() + bar.get_width()/2, bar.get_y() + altura/2,\n",
    "                        f'{altura:.1f}%', ha='center', va='center', fontsize=8, color='white')\n",
    "\n",
    "        bottom += valores\n",
    "\n",
    "    # Etiquetas de porcentaje total encima de cada barra\n",
    "    for i, val in enumerate(total):\n",
    "        ax.text(i, bottom[i] + 0.5, f'{val:.1f}%', ha='center', va='bottom', fontsize=9, fontweight='bold')\n",
    "\n",
    "    ax.set_title(titulo)\n",
    "    ax.set_ylabel('% Votos ponderados')\n",
    "    ax.set_xlabel('Candidatura')\n",
    "    ax.set_xticks(range(len(df_plot.index)))\n",
    "    ax.set_xticklabels(df_plot.index)\n",
    "    ax.legend(title='Estamento')\n",
    "    plt.tight_layout()\n",
    "    plt.show()\n",
    "\n",
    "# Calcular y graficar\n",
    "ponderado_v1 = calcular_votos_ponderados(votos_v1)\n",
    "ponderado_v2 = calcular_votos_ponderados(votos_v2)\n",
    "\n",
    "graficar_barras_apiladas(ponderado_v1, 'Distribución de votos ponderados por estamento (Primera vuelta 2021)')"
   ]
  },
  {
   "cell_type": "code",
   "execution_count": null,
   "id": "0800fdfe",
   "metadata": {},
   "outputs": [],
   "source": [
    "graficar_barras_apiladas(weighted_v2, 'Distribución de votos ponderados por estamento (Segunda vuelta 2021)')"
   ]
  },
  {
   "cell_type": "markdown",
   "id": "1d61240d",
   "metadata": {},
   "source": [
    "**Justificación del tipo de gráfico utilizado**\n",
    "\n",
    "Para representar el porcentaje de votos ponderados por candidatura y por estamento, se ha optado por gráficos de barras verticales (y apiladas en su caso). Este tipo de gráfico es especialmente adecuado porque:\n",
    "\n",
    "- Permite comparar de forma clara y precisa los porcentajes obtenidos por cada candidatura, tanto en el total como desglosado por estamento.\n",
    "- Las diferencias entre candidatos y entre estamentos se visualizan fácilmente, incluso cuando los valores son próximos.\n",
    "- Es sencillo añadir etiquetas, leyendas y personalizar colores para mejorar la interpretación.\n",
    "- La escala lineal facilita la comparación directa de magnitudes.\n",
    "\n",
    "**Comparación con los gráficos de la web oficial**\n",
    "\n",
    "En la web oficial, se utilizan principalmente:\n",
    "\n",
    "- Un gráfico de pastel para mostrar el porcentaje total de votos ponderados por candidato.\n",
    "- Un gráfico de barras horizontales para mostrar los porcentajes por sectores (estamentos).\n",
    "\n",
    "    **Ventajas de los gráficos realizados en el notebook:**\n",
    "\n",
    "    - El gráfico de barras vertical (o apilado) permite comparar de un vistazo tanto el total como la distribución interna por estamento, mientras que el gráfico de pastel solo muestra la proporción global y dificulta la comparación precisa.\n",
    "    - Los nombres de los candidatos pueden acortarse y disponerse horizontalmente, mejorando la legibilidad respecto a los gráficos oficiales.\n",
    "    - La personalización de colores, etiquetas y leyendas es más flexible, lo que facilita la interpretación y la adaptación a las necesidades del análisis.\n",
    "    - El gráfico de barras es más adecuado cuando hay más de dos o tres categorías y cuando se busca comparar valores exactos, no solo proporciones.\n",
    "    \n",
    "    **Conclusión:**\n",
    "    - El gráfico de barras vertical (y apilado) es más informativo y preciso para comparar resultados entre candidaturas y estamentos, mientras que el gráfico de pastel es útil solo para mostrar proporciones generales, pero no para análisis detallados. Por ello, la elección de barras es más adecuada para el objetivo de este análisis."
   ]
  },
  {
   "cell_type": "markdown",
   "id": "f17bcbc4",
   "metadata": {},
   "source": [
    "---"
   ]
  },
  {
   "cell_type": "markdown",
   "id": "2e4a7217",
   "metadata": {},
   "source": [
    "### **Apartado 3: Histórico de participación por estamento (2017–2025)**\n",
    "\n",
    "Representa la evolución de la participación de cada estamento en todas las elecciones disponibles (2017, 2021, 2025a, 2025b), incluyendo las vueltas correspondientes. El gráfico debe permitir comparar la tendencia de participación de cada estamento a lo largo del tiempo. Una \n",
    "vez realizado, responde a las siguientes preguntas: \n",
    "- ¿En qué elecciones ha habido más participación en cada uno de los estamentos?"
   ]
  },
  {
   "cell_type": "code",
   "execution_count": null,
   "id": "2ac64790",
   "metadata": {},
   "outputs": [],
   "source": [
    "# Cargar y procesar todos los ficheros de participación disponibles\n",
    "import glob\n",
    "import os\n",
    "\n",
    "def extraer_info_nombre(nombre):\n",
    "    base = os.path.basename(nombre)\n",
    "    partes = base.split('_')\n",
    "    anio = partes[0]\n",
    "    vuelta = partes[1]\n",
    "    return anio, vuelta\n",
    "\n",
    "archivos = sorted(glob.glob('data/*_participation_data.csv'))\n",
    "resumen = []\n",
    "for archivo in archivos:\n",
    "    anio, vuelta = extraer_info_nombre(archivo)\n",
    "    df = pd.read_csv(archivo, delimiter='\\t')\n",
    "    for estamento in df['Category'].unique():\n",
    "        sub = df[df['Category'] == estamento]\n",
    "        censo = sub['Censo'].sum()\n",
    "        votos = sub['Votos'].sum()\n",
    "        pct = 100 * votos / censo if censo > 0 else 0\n",
    "        resumen.append({'Año': anio, 'Vuelta': vuelta, 'Estamento': estamento, '% Participación': pct})\n",
    "\n",
    "historico = pd.DataFrame(resumen)\n",
    "historico"
   ]
  },
  {
   "cell_type": "code",
   "execution_count": null,
   "id": "9f3d6bc1",
   "metadata": {},
   "outputs": [],
   "source": [
    "# Gráfico de líneas: Evolución histórica de la participación por estamento\n",
    "# Usar los mismos colores que en el apartado 1\n",
    "plt.figure(figsize=(10, 6))\n",
    "for estamento in historico['Estamento'].unique():\n",
    "    datos = historico[historico['Estamento'] == estamento]\n",
    "    x = datos['Año'] + '-' + datos['Vuelta']\n",
    "    color = colores_estamentos.get(estamento, '#333333')  # Obtener el color específico para el estamento\n",
    "    plt.plot(x, datos['% Participación'], marker='o', label=estamento, color=color)\n",
    "plt.ylabel('% Participación')\n",
    "plt.xlabel('Elección (Año-Vuelta)')\n",
    "plt.title('Histórico de participación por estamento (2017–2025)')\n",
    "plt.ylim(0, 100)\n",
    "plt.legend()\n",
    "plt.grid(True, linestyle='--', alpha=0.7)\n",
    "plt.tight_layout()\n",
    "plt.show()"
   ]
  },
  {
   "cell_type": "markdown",
   "id": "edc5ee98",
   "metadata": {},
   "source": [
    "**Justificación del gráfico de líneas para el histórico de participación por estamento**\n",
    "\n",
    "Para analizar la evolución de la participación por estamento a lo largo de varias elecciones y vueltas, el gráfico de líneas es la opción más adecuada porque:\n",
    "\n",
    "- Permite visualizar claramente las tendencias y cambios en la participación de cada estamento a lo largo del tiempo.\n",
    "- Facilita la comparación directa entre estamentos en cada elección y la identificación de patrones o anomalías.\n",
    "- El uso de diferentes colores y marcadores para cada estamento ayuda a distinguirlos fácilmente.\n",
    "- Es posible observar de un vistazo en qué elecciones ha habido picos o caídas de participación para cada grupo.\n",
    "\n",
    "Otros tipos de gráficos, como barras, serían menos eficaces para mostrar la evolución temporal y las comparaciones simultáneas entre varios grupos.\n",
    "\n",
    "**Respuesta: ¿En qué elecciones ha habido más participación en cada uno de los estamentos?**\n",
    "\n",
    "Analizando el gráfico generado:\n",
    "\n",
    "- **Permanente:** La mayor participación se observa en 2017-v1, aunque también es alta en 2025b-v1.\n",
    "- **No_Permanente:** El valor más alto se da en 2017-v2 y 2017-v1, con un repunte en 2025b-v1.\n",
    "- **PDIF:** La participación máxima se alcanza en 2017-v2 y 2017-v1, y vuelve a subir en 2025b-v1.\n",
    "- **Estudiantes:** El mayor porcentaje se da en 2017-v1, con una caída progresiva en las siguientes elecciones.\n",
    "- **PTGAS:** La mayor participación se observa en 2025b-v1, seguida de cerca por 2017-v1.\n",
    "\n",
    "En resumen, la participación más alta para la mayoría de los estamentos se da en las elecciones de 2017 (especialmente en la primera vuelta), aunque en el caso de PTGAS y algunos otros hay un repunte en 2025b-v1."
   ]
  },
  {
   "cell_type": "markdown",
   "id": "c3f99b07",
   "metadata": {},
   "source": [
    "## **Parte 2: Múltiples gráficos con matplotlib (subplots)**\n",
    "\n",
    "En esta segunda parte vamos a repetir los mismos ejercicios de la Parte 1, pero ahora desglosando los resultados por centro o facultad de la UAM. El objetivo es aprender a trabajar con múltiples gráficos en una misma figura (subplots) y a mejorar su presentación visual. Todos los gráficos deben realizarse con la librería matplotlib. No se especifica la disposición de los subplots ni las modificaciones de estilo que debes aplicar: deberás decidir qué organización es más adecuada en cada caso (rejilla de subplots, disposición por filas o columnas, etc.). En el notebook, tras cada figura deberás escribir una breve justificación explicando por qué has elegido esa representación con subplots y, en caso de haber aplicado modificaciones de estilo \n",
    "(como compartir ejes, unificar la leyenda, modificar colores o tipografías, ajustar espaciados, etc.), deberás justificar también esas decisiones de diseño. "
   ]
  },
  {
   "cell_type": "markdown",
   "id": "4b4c3f9b",
   "metadata": {},
   "source": [
    "### **Apartado 1: Participación por estamento y centro (2021)**\n",
    "\n",
    "Representa los porcentajes de participación por estamento, desglosados por centro, para la primera y la segunda vuelta de las elecciones de 2021. Cada subplot debe mostrar los datos de un centro distinto. Una vez realizado, responde a la siguiente pregunta:\n",
    " \n",
    "- ¿Qué centro y qué estamento tuvo la máxima participación en cada una de las vueltas de las elecciones de 2021?"
   ]
  },
  {
   "cell_type": "markdown",
   "id": "2320cea1",
   "metadata": {},
   "source": [
    "### **Apartado 2: Votos ponderados por candidatura y centro (2021)**\n",
    "\n",
    "Representa los porcentajes de votos ponderados por candidato, desglosados por centro, tanto en la primera como en la segunda vuelta de las elecciones de 2021. Cada subplot debe corresponder a un centro distinto. \n",
    "\n",
    "- ¿En qué centro obtuvo el/la candidato/a ganador/a el mayor porcentaje de votos ponderados?"
   ]
  },
  {
   "cell_type": "markdown",
   "id": "72d9d5d1",
   "metadata": {},
   "source": [
    "### **Apartado 3: Histórico de participación por estamento y centro (2017–2025)**\n",
    "\n",
    "Representa la evolución de la participación de cada estamento en todas las elecciones, pero desglosada por centro. Cada subplot debe mostrar los resultados históricos de un centro. \n",
    "\n",
    "Responde a la siguiente pregunta: \n",
    "- ¿En qué año, centro y estamento se obtuvo la mínima y la máxima participación?"
   ]
  },
  {
   "cell_type": "markdown",
   "id": "b45fe1af",
   "metadata": {},
   "source": [
    "### **Apartado 4: Exportación de las gráficas**\n",
    "\n",
    "Exporta las gráficas de los Apartados 1-3 en ficheros PDF. Las gráficas deben tener la mejor calidad de imagen posible."
   ]
  }
 ],
 "metadata": {
  "kernelspec": {
   "display_name": "Python 3",
   "language": "python",
   "name": "python3"
  },
  "language_info": {
   "codemirror_mode": {
    "name": "ipython",
    "version": 3
   },
   "file_extension": ".py",
   "mimetype": "text/x-python",
   "name": "python",
   "nbconvert_exporter": "python",
   "pygments_lexer": "ipython3",
   "version": "3.13.7"
  }
 },
 "nbformat": 4,
 "nbformat_minor": 5
}
